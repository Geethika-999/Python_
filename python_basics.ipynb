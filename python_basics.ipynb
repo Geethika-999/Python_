{
  "nbformat": 4,
  "nbformat_minor": 0,
  "metadata": {
    "colab": {
      "provenance": []
    },
    "kernelspec": {
      "name": "python3",
      "display_name": "Python 3"
    },
    "language_info": {
      "name": "python"
    }
  },
  "cells": [
    {
      "cell_type": "markdown",
      "source": [
        "Math Functions"
      ],
      "metadata": {
        "id": "Tt5bCIA9HNFZ"
      }
    },
    {
      "cell_type": "code",
      "source": [
        "print(2**3)  # ** indicates power of i.e 2 power of 3\n",
        "print(5//4)\n",
        "print(6 % 4) # modulo\n",
        "\n",
        "# math functions\n",
        "\n",
        "round(3.9)\n",
        "abs(-20)\n",
        "pow(5,3)\n",
        "\n",
        "'''\n",
        "there are some other math functions such as\n",
        "\n",
        "sqrt(x) -returns the square root of x\n",
        "floor(x) - returns the integer <= to x\n",
        "factorial(x) - returns the factors of x etc\n",
        "\n",
        "'''\n"
      ],
      "metadata": {
        "colab": {
          "base_uri": "https://localhost:8080/",
          "height": 88
        },
        "id": "HkAWfWhBx97P",
        "outputId": "fc2dcb55-b6a2-492c-8b14-0c75f6eca815"
      },
      "execution_count": null,
      "outputs": [
        {
          "output_type": "stream",
          "name": "stdout",
          "text": [
            "8\n",
            "1\n",
            "2\n"
          ]
        },
        {
          "output_type": "execute_result",
          "data": {
            "text/plain": [
              "'\\nthere are some other math functions such as\\n\\nsqrt(x) -returns the square root of x\\nfloor(x) - returns the integer <= to x\\nfactorial(x) - returns the factors of x etc\\n\\n'"
            ],
            "application/vnd.google.colaboratory.intrinsic+json": {
              "type": "string"
            }
          },
          "metadata": {},
          "execution_count": 31
        }
      ]
    },
    {
      "cell_type": "code",
      "source": [
        "#operator precedence\n",
        "print((20-3)+2**2)\n",
        "'''\n",
        "1. ()\n",
        "2. **\n",
        "3. */\n",
        "4. +-\n",
        "\n",
        "'''"
      ],
      "metadata": {
        "colab": {
          "base_uri": "https://localhost:8080/",
          "height": 53
        },
        "id": "3UmxbzIi1qNB",
        "outputId": "d8c71382-c2bc-44d2-f791-5fafabb1e24a"
      },
      "execution_count": null,
      "outputs": [
        {
          "output_type": "stream",
          "name": "stdout",
          "text": [
            "21\n"
          ]
        },
        {
          "output_type": "execute_result",
          "data": {
            "text/plain": [
              "'\\n1. ()\\n2. **\\n3. */\\n4. +-\\n'"
            ],
            "application/vnd.google.colaboratory.intrinsic+json": {
              "type": "string"
            }
          },
          "metadata": {},
          "execution_count": 10
        }
      ]
    },
    {
      "cell_type": "markdown",
      "source": [
        "complex and bin()"
      ],
      "metadata": {
        "id": "xJjuWGCL4_Vb"
      }
    },
    {
      "cell_type": "code",
      "source": [
        "complex (3+1j)\n",
        "'''\n",
        "in this '3' is real number and '1j' is the imaginary number\n",
        "which is used in complex maths operations\n",
        "i.e while adding complex numbers like\n",
        "2+3j & 5+9j\n",
        "\n",
        "'''\n",
        "#binary - bin (to represent the binary form of a number)\n",
        "print(bin(5))\n",
        "print(int('0b101',2))"
      ],
      "metadata": {
        "colab": {
          "base_uri": "https://localhost:8080/"
        },
        "id": "OIAs8qUU5UoZ",
        "outputId": "1df60c07-b5e4-4621-ba0a-405ae9586787"
      },
      "execution_count": null,
      "outputs": [
        {
          "output_type": "stream",
          "name": "stdout",
          "text": [
            "0b101\n",
            "5\n"
          ]
        }
      ]
    },
    {
      "cell_type": "code",
      "source": [
        "iq = 190\n",
        "user_age =iq/4\n",
        "a=user_age\n",
        "\n",
        "print(a)\n",
        "\n",
        "__    # dunder (starts with double underscore shouldn't declare a variable)"
      ],
      "metadata": {
        "colab": {
          "base_uri": "https://localhost:8080/"
        },
        "id": "sIevZPKV6OyZ",
        "outputId": "f25437d0-c537-4695-a1d6-38d96c901080"
      },
      "execution_count": null,
      "outputs": [
        {
          "output_type": "stream",
          "name": "stdout",
          "text": [
            "47.5\n"
          ]
        }
      ]
    },
    {
      "cell_type": "markdown",
      "source": [
        "argumented assignment operator"
      ],
      "metadata": {
        "id": "9XBZPwz0D1Q8"
      }
    },
    {
      "cell_type": "code",
      "source": [
        "x = 5\n",
        "'''\n",
        "if we are gonna add or sub we do\n",
        "x = x + 7\n",
        "# insted we also can write as\n",
        "\n",
        "'''\n",
        "x += 2\n",
        "x -= 2\n",
        "x *= 2\n",
        "print(x)"
      ],
      "metadata": {
        "colab": {
          "base_uri": "https://localhost:8080/"
        },
        "id": "jHITz_9Y93A4",
        "outputId": "69610be2-1a01-4dc5-d105-22f8e7741743"
      },
      "execution_count": null,
      "outputs": [
        {
          "output_type": "stream",
          "name": "stdout",
          "text": [
            "10\n"
          ]
        }
      ]
    },
    {
      "cell_type": "markdown",
      "source": [
        "String Concatenation"
      ],
      "metadata": {
        "id": "V9HzObM8Jz0x"
      }
    },
    {
      "cell_type": "code",
      "source": [
        "# adding of 2 strings\n",
        "first_name = 'Geethika'\n",
        "last_name = \"Kandala\"\n",
        "full_name = first_name +' '+ last_name\n",
        "print(full_name)\n",
        "\n",
        "'''\n",
        " when we add the both must be str\n",
        " any one of thhem shouldn't be the other data type\n",
        "\n",
        " print('hello'+5)\n",
        " insted we need to convert it in to a str\n",
        "\n",
        "'''\n",
        "print('hello '+'5')\n",
        "print('hi '+str(2.0))"
      ],
      "metadata": {
        "colab": {
          "base_uri": "https://localhost:8080/"
        },
        "id": "IdFulPHpDuiz",
        "outputId": "55dafe24-4f3a-4bb9-d6d1-db86b4f389cf"
      },
      "execution_count": null,
      "outputs": [
        {
          "output_type": "stream",
          "name": "stdout",
          "text": [
            "Geethika Kandala\n",
            "hello 5\n",
            "hi 2.0\n"
          ]
        }
      ]
    },
    {
      "cell_type": "markdown",
      "source": [
        "Formatted Strings"
      ],
      "metadata": {
        "id": "0U4elg1ASKPr"
      }
    },
    {
      "cell_type": "code",
      "source": [
        "name = 'geethika'\n",
        "age = 20\n",
        "print(f'Hi {name}. You are {age} old.')"
      ],
      "metadata": {
        "colab": {
          "base_uri": "https://localhost:8080/"
        },
        "id": "bX0qw1M1SXal",
        "outputId": "7b182f61-859a-4d23-a1d0-1969f85a2e43"
      },
      "execution_count": null,
      "outputs": [
        {
          "output_type": "stream",
          "name": "stdout",
          "text": [
            "Hi geethika. You are 20 old.\n"
          ]
        }
      ]
    },
    {
      "cell_type": "code",
      "source": [
        "x = 'hello there. have a good day.'\n",
        "\n",
        "# every str starts it's index or starting num with '0'\n",
        "\n",
        "print(x[1])    # to extract a letter from the str\n",
        "print(x[-1])   # '-ve' starts counting from the end\n",
        "\n",
        "# str_name[starts:ends:skip]\n",
        "\n",
        "print(x[1:10:2])\n",
        "print(len(x))  # len - length of str\n",
        "print(x[::-1]) #reversing a str\n",
        "\n",
        "# some other str functions are as follow used most\n",
        "\n",
        "print(x.upper())\n",
        "print(x.capitalize())\n",
        "print(x.lower())\n",
        "print(x.find('good'))\n",
        "print(x.replace('hello','hi'))\n",
        "\n",
        "print(x)"
      ],
      "metadata": {
        "id": "H_C_Ot9Kx-ze",
        "colab": {
          "base_uri": "https://localhost:8080/"
        },
        "outputId": "e7a719b4-b04a-49c3-ae87-ab1beb5912a2"
      },
      "execution_count": null,
      "outputs": [
        {
          "output_type": "stream",
          "name": "stdout",
          "text": [
            "e\n",
            ".\n",
            "el hr\n",
            "29\n",
            ".yad doog a evah .ereht olleh\n",
            "HELLO THERE. HAVE A GOOD DAY.\n",
            "Hello there. have a good day.\n",
            "hello there. have a good day.\n",
            "20\n",
            "hi there. have a good day.\n",
            "hello there. have a good day.\n"
          ]
        }
      ]
    },
    {
      "cell_type": "markdown",
      "source": [
        "Type Conversion"
      ],
      "metadata": {
        "id": "KIY7NbeEKdZK"
      }
    },
    {
      "cell_type": "code",
      "source": [
        "#just adding the requried type to the value as below\n",
        "\n",
        "print(type(str(10)))"
      ],
      "metadata": {
        "colab": {
          "base_uri": "https://localhost:8080/"
        },
        "id": "AfU7v31uKbeJ",
        "outputId": "eb2fbef8-8720-48e1-919e-6a324084c90d"
      },
      "execution_count": null,
      "outputs": [
        {
          "output_type": "stream",
          "name": "stdout",
          "text": [
            "<class 'str'>\n"
          ]
        }
      ]
    },
    {
      "cell_type": "markdown",
      "source": [
        "Escape Sequence"
      ],
      "metadata": {
        "id": "npoV5milM30_"
      }
    },
    {
      "cell_type": "code",
      "source": [
        "# are generally used when there are '' or \"\" quotes in the sentence\n",
        "\n",
        "print(\" hello \\n \\ti'm \\\"geethika\\\".\\n\\n \\t i'm a \\\"good girl\\\"\")\n",
        "\n",
        "# \\t - tab indicates for to add a space\n",
        "# \\n - for the new line"
      ],
      "metadata": {
        "colab": {
          "base_uri": "https://localhost:8080/"
        },
        "id": "gSZdhZvCPHwg",
        "outputId": "d43ac397-af49-47cc-b4ff-f28b8f1a9e85"
      },
      "execution_count": null,
      "outputs": [
        {
          "output_type": "stream",
          "name": "stdout",
          "text": [
            " hello \n",
            " \ti'm \"geethika\".\n",
            "\n",
            " \t i'm a \"good girl\"\n"
          ]
        }
      ]
    },
    {
      "cell_type": "code",
      "source": [
        "# exersice of type conversion\n",
        "\n",
        "name = input('Enter your name:')\n",
        "birth_year= input('what year were you born?')\n",
        "age = 2023 - int(birth_year)\n",
        "\n",
        "print(type(birth_year))\n",
        "print(f'hello {name}. you are {age} years old.')\n",
        "\n",
        "\n"
      ],
      "metadata": {
        "id": "IKJbx9OBQWqo",
        "colab": {
          "base_uri": "https://localhost:8080/"
        },
        "outputId": "e2099a80-4731-4b36-d21c-edf8ec559d4c"
      },
      "execution_count": null,
      "outputs": [
        {
          "name": "stdout",
          "output_type": "stream",
          "text": [
            "Enter your name:gk\n"
          ]
        }
      ]
    },
    {
      "cell_type": "code",
      "source": [
        "birth_year= input('what year were you born?')\n",
        "\n",
        "type(birth_year)"
      ],
      "metadata": {
        "id": "B8CLXhaYzDIm"
      },
      "execution_count": null,
      "outputs": []
    },
    {
      "cell_type": "markdown",
      "source": [
        "Creating a password checker"
      ],
      "metadata": {
        "id": "GjTRRo4Fdp23"
      }
    },
    {
      "cell_type": "code",
      "source": [
        "user_name = input('user name:')\n",
        "password=input('password:')\n",
        "userpassword= len(password) * '*'\n",
        "\n",
        "print(f'{user_name}, your password {userpassword} is {len(password)} letter long.')"
      ],
      "metadata": {
        "colab": {
          "base_uri": "https://localhost:8080/"
        },
        "id": "Vte97PW4fzn-",
        "outputId": "74d1f73e-e6f7-46f6-c4fa-17f07477f440"
      },
      "execution_count": null,
      "outputs": [
        {
          "output_type": "stream",
          "name": "stdout",
          "text": [
            "user name:Geethika\n",
            "password:kandala\n",
            "Geethika, your password ******* is 7 letter long.\n"
          ]
        }
      ]
    },
    {
      "cell_type": "markdown",
      "source": [
        "Lists\n",
        "\n",
        "     List is a ordered sequence of objects of any type\n",
        "     It is enclosed with the '[]'\n",
        "     li = [1,2,'hello',10.0] similar to the array\n"
      ],
      "metadata": {
        "id": "bMDsSQzAjbBO"
      }
    },
    {
      "cell_type": "code",
      "source": [
        "# lists slicing\n",
        "'''\n",
        "list are same like the str\n",
        "str are immutable where as lists are mutable\n",
        "list and str do consists of same syntax in slicing\n",
        "\n",
        "'''\n",
        "amazon_cart=['notes',\n",
        "             'glasses',\n",
        "             'toys',\n",
        "             'pens']\n",
        "\n",
        "amazon_cart[0]='laptop'\n",
        "print(amazon_cart[0:2])\n",
        "\n",
        "new_cart=amazon_cart[0:3]\n",
        "new_cart[0]='pencil'\n",
        "\n",
        "print (amazon_cart)\n",
        "print(new_cart)"
      ],
      "metadata": {
        "colab": {
          "base_uri": "https://localhost:8080/"
        },
        "id": "u0CEcVmek4_y",
        "outputId": "ea299a43-bf40-4e2c-925d-8f91adbe8e28"
      },
      "execution_count": null,
      "outputs": [
        {
          "output_type": "stream",
          "name": "stdout",
          "text": [
            "['laptop', 'glasses']\n",
            "['laptop', 'glasses', 'toys', 'pens']\n",
            "['pencil', 'glasses', 'toys']\n"
          ]
        }
      ]
    },
    {
      "cell_type": "markdown",
      "source": [
        "List Method 1"
      ],
      "metadata": {
        "id": "05SatKqrIAVf"
      }
    },
    {
      "cell_type": "code",
      "source": [
        "basket= [1,2,3,4,5]\n",
        "print(len(basket))\n",
        "\n",
        "# adding one more value to list\n",
        "basket.append(100)\n",
        "new_list = basket[0:4]\n",
        "print(basket)\n",
        "print(new_list)\n",
        "\n",
        "basket.insert(1,105)\n",
        "print(basket)\n",
        "\n",
        "basket.extend([101])\n",
        "print(basket)\n",
        "\n",
        "# Removing\n",
        "basket.pop() # in pop we give the index num of the value\n",
        "basket.pop(2)\n",
        "print(basket)\n",
        "\n",
        "# where as in remove we give the value or the object\n",
        "basket.remove(3)\n",
        "print(basket)\n",
        "\n",
        "# clear removes entire values in the list\n",
        "basket.clear()\n",
        "print(basket)\n"
      ],
      "metadata": {
        "colab": {
          "base_uri": "https://localhost:8080/"
        },
        "id": "B_ONt-K-A9yY",
        "outputId": "c38a1fb2-daa0-459c-f7f0-a98341a8e090"
      },
      "execution_count": null,
      "outputs": [
        {
          "output_type": "stream",
          "name": "stdout",
          "text": [
            "5\n",
            "[1, 2, 3, 4, 5, 100]\n",
            "[1, 2, 3, 4]\n",
            "[1, 105, 2, 3, 4, 5, 100]\n",
            "[1, 105, 2, 3, 4, 5, 100, 101]\n",
            "[1, 105, 3, 4, 5, 100]\n",
            "[1, 105, 4, 5, 100]\n",
            "[]\n"
          ]
        }
      ]
    },
    {
      "cell_type": "markdown",
      "source": [
        "List Method 2"
      ],
      "metadata": {
        "id": "xRyFNcb7Sfu0"
      }
    },
    {
      "cell_type": "code",
      "source": [
        "basket= ['a','b','c','d','e','d']\n",
        "\n",
        "print (basket.index('d'))\n",
        "\n",
        "print('c' in basket)   # displays bool value i.e true or false\n",
        "print('x' in basket)\n",
        "\n",
        "# count is used for to count how many times the word got repeated in list\n",
        "\n",
        "print(basket.count('d'))\n",
        "\n",
        "print('me' in 'to me or not to me')"
      ],
      "metadata": {
        "colab": {
          "base_uri": "https://localhost:8080/"
        },
        "id": "4jcfSG-bSkzV",
        "outputId": "6e1b837b-7ef9-4647-e71c-65333d841d12"
      },
      "execution_count": null,
      "outputs": [
        {
          "output_type": "stream",
          "name": "stdout",
          "text": [
            "3\n",
            "True\n",
            "False\n",
            "2\n",
            "True\n"
          ]
        }
      ]
    },
    {
      "cell_type": "markdown",
      "source": [
        "Lists Method 3"
      ],
      "metadata": {
        "id": "2YNDyg0jVnL-"
      }
    },
    {
      "cell_type": "code",
      "source": [
        "basket= ['a','x','b','c','d','e','d']\n",
        "'''\n",
        "here sort is a mthod in list in simple\n",
        "it replaces according to the alphabetical order\n",
        "\n",
        "'''\n",
        "basket.sort()\n",
        "print (basket)\n",
        "\n",
        "# where as sorted is a keyword which also performs same action\n",
        "\n",
        "sorted(basket)\n",
        "\n",
        "x = [10,20,9,0,5,3,15]\n",
        "x.sort()\n",
        "print(x)\n",
        "\n",
        "# note : sort in list can't be done b/w str & int\n",
        "\n",
        "basket.reverse()\n",
        "print(basket)\n",
        "\n",
        "# we can also do as\n",
        "print(basket[::-1])\n",
        "\n",
        "print(range(1,100))\n",
        "print(list(range(1,100)))\n",
        "\n"
      ],
      "metadata": {
        "colab": {
          "base_uri": "https://localhost:8080/"
        },
        "id": "tsMznROyVtVL",
        "outputId": "d2abc859-e449-4e9c-8a2d-53b9b76e1c86"
      },
      "execution_count": null,
      "outputs": [
        {
          "output_type": "stream",
          "name": "stdout",
          "text": [
            "['a', 'b', 'c', 'd', 'd', 'e', 'x']\n",
            "[0, 3, 5, 9, 10, 15, 20]\n",
            "['x', 'e', 'd', 'd', 'c', 'b', 'a']\n",
            "['a', 'b', 'c', 'd', 'd', 'e', 'x']\n",
            "range(1, 100)\n",
            "[1, 2, 3, 4, 5, 6, 7, 8, 9, 10, 11, 12, 13, 14, 15, 16, 17, 18, 19, 20, 21, 22, 23, 24, 25, 26, 27, 28, 29, 30, 31, 32, 33, 34, 35, 36, 37, 38, 39, 40, 41, 42, 43, 44, 45, 46, 47, 48, 49, 50, 51, 52, 53, 54, 55, 56, 57, 58, 59, 60, 61, 62, 63, 64, 65, 66, 67, 68, 69, 70, 71, 72, 73, 74, 75, 76, 77, 78, 79, 80, 81, 82, 83, 84, 85, 86, 87, 88, 89, 90, 91, 92, 93, 94, 95, 96, 97, 98, 99]\n"
          ]
        }
      ]
    },
    {
      "cell_type": "code",
      "source": [
        "# joining a list\n",
        "'''\n",
        "whatever we joins it will be added b/w two values\n",
        "of the same list\n",
        "eg:\n",
        "'''\n",
        "x=['hi','my','name','is','GK']\n",
        "sentence= '!'\n",
        "new_sentence = sentence.join(x)\n",
        "print(new_sentence)\n",
        "\n",
        "sentence= ' '\n",
        "new_sentence = sentence.join(['hi','my','name','is','GK'])\n",
        "print(new_sentence)\n",
        "\n",
        "# insted we can also do as\n",
        "new_sentence = ' '.join(['hello','my','name','is','GK'])\n",
        "print(new_sentence)\n"
      ],
      "metadata": {
        "colab": {
          "base_uri": "https://localhost:8080/"
        },
        "id": "npKhOvBz3ILT",
        "outputId": "9335af71-97d1-4ffa-a6a1-2fb4b8bc7e8f"
      },
      "execution_count": null,
      "outputs": [
        {
          "output_type": "stream",
          "name": "stdout",
          "text": [
            "hi!my!name!is!GK\n",
            "hi my name is GK\n",
            "hello my name is GK\n"
          ]
        }
      ]
    },
    {
      "cell_type": "markdown",
      "source": [
        "List Unpacking"
      ],
      "metadata": {
        "id": "FUW6bb5k6ke1"
      }
    },
    {
      "cell_type": "code",
      "source": [
        "a,b,*other,c,d = [1,2,3,4,5,6,'hello','hi','good day',7,8,9]\n",
        "print(other)\n",
        "print(c)\n",
        "print(b)\n"
      ],
      "metadata": {
        "colab": {
          "base_uri": "https://localhost:8080/"
        },
        "id": "w7bA8Z-D6qbk",
        "outputId": "b69b0588-c0bd-4d38-f71c-d7de5a966f8d"
      },
      "execution_count": null,
      "outputs": [
        {
          "output_type": "stream",
          "name": "stdout",
          "text": [
            "[3, 4, 5, 6, 'hello', 'hi', 'good day', 7]\n",
            "8\n",
            "2\n"
          ]
        }
      ]
    },
    {
      "cell_type": "markdown",
      "source": [
        "Matrix"
      ],
      "metadata": {
        "id": "4xF76Fhy-4_I"
      }
    },
    {
      "cell_type": "code",
      "source": [
        "# it simply looks llike a array with in another array\n",
        "\n",
        "matrix = [\n",
        "   [1,2,3],\n",
        "   [2,4,6],\n",
        "   [7,8,9]\n",
        "]\n",
        "\n",
        "print(matrix[0][1])"
      ],
      "metadata": {
        "colab": {
          "base_uri": "https://localhost:8080/"
        },
        "id": "52dCJ3js-9vC",
        "outputId": "831bb467-5dd4-4486-db3b-8c82825ba610"
      },
      "execution_count": null,
      "outputs": [
        {
          "output_type": "stream",
          "name": "stdout",
          "text": [
            "2\n"
          ]
        }
      ]
    },
    {
      "cell_type": "markdown",
      "source": [
        "Dictionary - dict\n",
        "      \n",
        "      a way for to organize the data that can store each values by declaring\n",
        "      a new key to each value.A dict key is immutable so we can't use a list to define\n",
        "      a key but we can use a str bool and even int to declare a key.\n",
        "         In list we can print the data requried by using index num  where as in dict\n",
        "      we can print the data by using the key that is declared to the specific value\n",
        "      In dict we can assing a str or list or bool or int to a keys.\n",
        "      we can even make a single list by combining 'n' no.of dictionaries\n",
        "    "
      ],
      "metadata": {
        "id": "SpBlGX-FA40I"
      }
    },
    {
      "cell_type": "code",
      "source": [
        "dictionary = {\n",
        "    'a':[1,2,3],\n",
        "    'b':'hello',\n",
        "    'x':True\n",
        "}\n",
        "my_list=[\n",
        "  {\n",
        "    'a':[1,2,3],\n",
        "    'b':'hello',\n",
        "    'x':True\n",
        "},\n",
        "  {\n",
        "    'a':[4,5,6],\n",
        "    'b':'hi',\n",
        "    'x':False\n",
        "}\n",
        "    ]\n",
        "\n",
        "print(dictionary['b'])\n",
        "print(dictionary)\n",
        "\n",
        "print(my_list[1]['a'][1])"
      ],
      "metadata": {
        "colab": {
          "base_uri": "https://localhost:8080/"
        },
        "id": "UP5P3_Ps8tFg",
        "outputId": "c8f65927-3dea-4193-f89d-9b77126a5035"
      },
      "execution_count": null,
      "outputs": [
        {
          "output_type": "stream",
          "name": "stdout",
          "text": [
            "hello\n",
            "{'a': [1, 2, 3], 'b': 'hello', 'x': True}\n",
            "5\n"
          ]
        }
      ]
    },
    {
      "cell_type": "code",
      "source": [
        "# dict methods\n",
        "\n",
        "user = {\n",
        "    'basket':[1,2,3],\n",
        "    'greet':'hello',\n",
        "    'age':20\n",
        "    }\n",
        "\n",
        "print(user.get('age',25))\n",
        "\n",
        "user1=dict(name='gk')\n",
        "print(user1)"
      ],
      "metadata": {
        "id": "TM0ekWAfDXG_",
        "colab": {
          "base_uri": "https://localhost:8080/"
        },
        "outputId": "9b246efb-a646-485c-b877-63378a4474c4"
      },
      "execution_count": null,
      "outputs": [
        {
          "output_type": "stream",
          "name": "stdout",
          "text": [
            "20\n",
            "{'name': 'gk'}\n"
          ]
        }
      ]
    },
    {
      "cell_type": "code",
      "source": [
        "user = {\n",
        "    'basket':[1,2,3],\n",
        "    'greet':'hello',\n",
        "    'age':20\n",
        "    }\n",
        "\n",
        "print('basket' in user)\n",
        "print('hello' in user)\n",
        "\n",
        "print('age' in user.keys())\n",
        "print('hello' in user.values())\n",
        "print(user.items())\n",
        "\n",
        "print(user.pop('age'))\n",
        "user1=user.copy()\n",
        "user.clear()\n",
        "print(user)\n",
        "print(user1)"
      ],
      "metadata": {
        "colab": {
          "base_uri": "https://localhost:8080/"
        },
        "id": "ckyZ9nimMyC8",
        "outputId": "25176a7c-58a4-4ba6-ba63-3ef5ae713028"
      },
      "execution_count": null,
      "outputs": [
        {
          "output_type": "stream",
          "name": "stdout",
          "text": [
            "True\n",
            "False\n",
            "True\n",
            "True\n",
            "dict_items([('basket', [1, 2, 3]), ('greet', 'hello'), ('age', 20)])\n",
            "20\n",
            "{}\n",
            "{'basket': [1, 2, 3], 'greet': 'hello'}\n"
          ]
        }
      ]
    },
    {
      "cell_type": "markdown",
      "source": [
        "Conditional Logic\n",
        "\n",
        "        Conditional operator performs a condition. ' if ' is a conditional\n",
        "operator which checks the conndition and excecutes the statement if and if only\n",
        "the condition of if statement is true. if the condition is false it move to the\n",
        "else block or the next line.\n",
        "        \n",
        "         Indendations are important in this since indendation indicates the code\n",
        "is under the if block"
      ],
      "metadata": {
        "id": "rdn2eYaVd7sD"
      }
    },
    {
      "cell_type": "code",
      "source": [
        "is_old = True\n",
        "is_licenced = True\n",
        "\n",
        "if is_old:\n",
        "  print('you are old enough to drive!')\n",
        "elif is_licenced:\n",
        "  print('you can drive now!')\n",
        "else:\n",
        "  print('you are not of age!')\n",
        "\n",
        "print('okok')"
      ],
      "metadata": {
        "colab": {
          "base_uri": "https://localhost:8080/"
        },
        "id": "MPPNTs-IoJPg",
        "outputId": "1993d441-adf6-4b6d-e0f5-f46a57c38890"
      },
      "execution_count": null,
      "outputs": [
        {
          "output_type": "stream",
          "name": "stdout",
          "text": [
            "you can drive now!\n",
            "okok\n"
          ]
        }
      ]
    },
    {
      "cell_type": "code",
      "source": [
        "#\n",
        "\n",
        "is_old = True\n",
        "is_licenced = True\n",
        "\n",
        "if is_old and is_licenced:\n",
        "  print('you are old enough to drive!')\n",
        "else:\n",
        "  print('you are not of age!')"
      ],
      "metadata": {
        "colab": {
          "base_uri": "https://localhost:8080/"
        },
        "id": "YdbY-rSTp3Ur",
        "outputId": "f5b65186-dcd0-4037-c0b5-9d2a44f6bc91"
      },
      "execution_count": null,
      "outputs": [
        {
          "output_type": "stream",
          "name": "stdout",
          "text": [
            "you are old enough to drive!\n"
          ]
        }
      ]
    },
    {
      "cell_type": "code",
      "source": [
        "# Ternary Operator\n",
        "\n",
        "# condition_if_true if condition else condition_if_else\n",
        "\n",
        "is_friend = False\n",
        "can_message ='message allowed' if is_friend else 'not allowed to message'\n",
        "\n",
        "print(can_message)"
      ],
      "metadata": {
        "colab": {
          "base_uri": "https://localhost:8080/"
        },
        "id": "qWA1CshxsRsf",
        "outputId": "7d89199a-ad3f-4672-c156-28775e22c26e"
      },
      "execution_count": null,
      "outputs": [
        {
          "output_type": "stream",
          "name": "stdout",
          "text": [
            "not allowed to message\n"
          ]
        }
      ]
    },
    {
      "cell_type": "code",
      "source": [
        "# Short Circuiting\n",
        "# or - if either one is true it moves in to the if block\n",
        "# and - if both of them are true then only it moves in to the if block\n",
        "is_friend = True\n",
        "is_user = False\n",
        "\n",
        "if is_friend or is_user:\n",
        "  print('best friends forever')\n",
        "\n",
        "if is_friend and is_user:\n",
        "  print('best friends forever')"
      ],
      "metadata": {
        "colab": {
          "base_uri": "https://localhost:8080/"
        },
        "id": "RDFWx2bNvIAv",
        "outputId": "f13eea70-7edc-44dc-fd74-17813bc07cd0"
      },
      "execution_count": null,
      "outputs": [
        {
          "output_type": "stream",
          "name": "stdout",
          "text": [
            "best friends forever\n"
          ]
        }
      ]
    },
    {
      "cell_type": "markdown",
      "source": [
        "Logical Operator - which allows us to perform logic b/w two things 'and' 'or'"
      ],
      "metadata": {
        "id": "imMxnt103sZY"
      }
    },
    {
      "cell_type": "code",
      "source": [
        "is_magician = True\n",
        "is_expert = False\n",
        "\n",
        "if is_magician and is_expert:\n",
        "  print('you are a master magician')\n",
        "elif is_magician and not is_expert:\n",
        "  print('at least you\\'re getting there')\n",
        "elif not is_magician:\n",
        "  print('you need some magic powers')"
      ],
      "metadata": {
        "colab": {
          "base_uri": "https://localhost:8080/"
        },
        "id": "UacdCuA54KcF",
        "outputId": "88d0bb79-169a-4fb8-9ac9-20e21dfb9c3b"
      },
      "execution_count": null,
      "outputs": [
        {
          "output_type": "stream",
          "name": "stdout",
          "text": [
            "at least you're getting there\n"
          ]
        }
      ]
    },
    {
      "cell_type": "markdown",
      "source": [
        "Loops"
      ],
      "metadata": {
        "id": "SyGR5Kz3-NeG"
      }
    },
    {
      "cell_type": "code",
      "source": [
        "# an iterable is something to get looped over\n",
        "# eg: zero to mastry is a iterable\n",
        "# for something in iterable to iterates\n",
        "# for loops can allow us to iterate anything that has a collection of items\n",
        "for item in 'zero to mastery':\n",
        "  print(item)\n",
        "\n",
        "for item in [1,2,3,4,5]:\n",
        "  print(item)"
      ],
      "metadata": {
        "colab": {
          "base_uri": "https://localhost:8080/"
        },
        "id": "I3NUyq_V_1-W",
        "outputId": "03309238-e19e-481e-f0f9-84b13cd4a06b"
      },
      "execution_count": null,
      "outputs": [
        {
          "output_type": "stream",
          "name": "stdout",
          "text": [
            "z\n",
            "e\n",
            "r\n",
            "o\n",
            " \n",
            "t\n",
            "o\n",
            " \n",
            "m\n",
            "a\n",
            "s\n",
            "t\n",
            "e\n",
            "r\n",
            "y\n",
            "1\n",
            "2\n",
            "3\n",
            "4\n",
            "5\n"
          ]
        }
      ]
    },
    {
      "cell_type": "code",
      "source": [
        "for item in (1,2,3,4,5):\n",
        "  for x in ['a','b','c']:\n",
        "    print(item,x)"
      ],
      "metadata": {
        "colab": {
          "base_uri": "https://localhost:8080/"
        },
        "id": "9iGPgkedDMmU",
        "outputId": "71389717-134e-4380-dc7a-029858439f76"
      },
      "execution_count": null,
      "outputs": [
        {
          "output_type": "stream",
          "name": "stdout",
          "text": [
            "1 a\n",
            "1 b\n",
            "1 c\n",
            "2 a\n",
            "2 b\n",
            "2 c\n",
            "3 a\n",
            "3 b\n",
            "3 c\n",
            "4 a\n",
            "4 b\n",
            "4 c\n",
            "5 a\n",
            "5 b\n",
            "5 c\n"
          ]
        }
      ]
    },
    {
      "cell_type": "markdown",
      "source": [
        "Iterable - simply means an object or the collection that is iterated overload\n",
        "           An iterable can either be list, dict, set, tuple, str\n",
        "           iterated means can go one by one check each item in the collection\n"
      ],
      "metadata": {
        "id": "jtSuH-O8Zq8N"
      }
    },
    {
      "cell_type": "code",
      "source": [
        "user={\n",
        "    'name':'gk',\n",
        "    'age':20,\n",
        "    'can_swim': False\n",
        "}\n",
        "\n",
        "for item in user.items():\n",
        "  print(item)\n",
        "for item in user.values():\n",
        "  print(item)\n",
        "for item in user.keys():\n",
        "  print(item)\n",
        "for key, value in user.items():\n",
        "  print(key,value)"
      ],
      "metadata": {
        "colab": {
          "base_uri": "https://localhost:8080/"
        },
        "id": "ChF-8UHzggMn",
        "outputId": "329d8d20-8db6-4a4f-ea76-76f4a85def3b"
      },
      "execution_count": null,
      "outputs": [
        {
          "output_type": "stream",
          "name": "stdout",
          "text": [
            "('name', 'gk')\n",
            "('age', 20)\n",
            "('can_swim', False)\n",
            "gk\n",
            "20\n",
            "False\n",
            "name\n",
            "age\n",
            "can_swim\n",
            "name gk\n",
            "age 20\n",
            "can_swim False\n"
          ]
        }
      ]
    },
    {
      "cell_type": "code",
      "source": [
        "# counter\n",
        "mylist=[1,2,3,4,5,6,7,8,9,10]\n",
        "\n",
        "sum = 0\n",
        "for i in mylist:\n",
        "  sum = sum + i\n",
        "print(sum)"
      ],
      "metadata": {
        "colab": {
          "base_uri": "https://localhost:8080/"
        },
        "id": "A-2J9uuLkIYU",
        "outputId": "5ff6e528-1701-4e87-f9a9-a36ecbae20b6"
      },
      "execution_count": null,
      "outputs": [
        {
          "output_type": "stream",
          "name": "stdout",
          "text": [
            "55\n"
          ]
        }
      ]
    },
    {
      "cell_type": "code",
      "source": [
        "l1=list(range(1,10))\n",
        "\n",
        "for i in l1:\n",
        "  if i % 2 ==0:\n",
        "     print(i)"
      ],
      "metadata": {
        "id": "AaAUMGpNpAws",
        "colab": {
          "base_uri": "https://localhost:8080/"
        },
        "outputId": "d7a14646-63fe-4e39-f5bf-bc497c5094d8"
      },
      "execution_count": null,
      "outputs": [
        {
          "output_type": "stream",
          "name": "stdout",
          "text": [
            "2\n",
            "4\n",
            "6\n",
            "8\n"
          ]
        }
      ]
    },
    {
      "cell_type": "markdown",
      "source": [
        "Range"
      ],
      "metadata": {
        "id": "7-fgOMnWvnS5"
      }
    },
    {
      "cell_type": "code",
      "source": [
        "print(range(10))\n",
        "\n",
        "for i in range(10):\n",
        "  print(i)\n",
        "\n",
        "for i in range(0,10,2):\n",
        "  print(i)"
      ],
      "metadata": {
        "colab": {
          "base_uri": "https://localhost:8080/"
        },
        "id": "K67fIQzFwDnj",
        "outputId": "a6cb782a-bc02-4b40-eefe-851067cb4801"
      },
      "execution_count": null,
      "outputs": [
        {
          "output_type": "stream",
          "name": "stdout",
          "text": [
            "range(0, 10)\n",
            "0\n",
            "1\n",
            "2\n",
            "3\n",
            "4\n",
            "5\n",
            "6\n",
            "7\n",
            "8\n",
            "9\n",
            "0\n",
            "2\n",
            "4\n",
            "6\n",
            "8\n"
          ]
        }
      ]
    },
    {
      "cell_type": "code",
      "source": [
        "for i in range(10,0,-1): # in decending order\n",
        "  print(i)\n",
        "for i in range(10,0,-3): # in decending order\n",
        "  print(i)"
      ],
      "metadata": {
        "colab": {
          "base_uri": "https://localhost:8080/"
        },
        "id": "I9sIQsEQwJIY",
        "outputId": "594cef8f-65b8-4baa-fa1e-01197622beb5"
      },
      "execution_count": null,
      "outputs": [
        {
          "output_type": "stream",
          "name": "stdout",
          "text": [
            "10\n",
            "9\n",
            "8\n",
            "7\n",
            "6\n",
            "5\n",
            "4\n",
            "3\n",
            "2\n",
            "1\n",
            "10\n",
            "7\n",
            "4\n",
            "1\n"
          ]
        }
      ]
    },
    {
      "cell_type": "markdown",
      "source": [
        "Enumerate"
      ],
      "metadata": {
        "id": "_PJc9YcdxZWr"
      }
    },
    {
      "cell_type": "code",
      "source": [
        "for i,char in enumerate('hellooo'):\n",
        "  print(i,char)"
      ],
      "metadata": {
        "colab": {
          "base_uri": "https://localhost:8080/"
        },
        "id": "bE629tUJx880",
        "outputId": "f1ad81a7-9dc2-42c5-b2e5-7a86dfbfc5a2"
      },
      "execution_count": null,
      "outputs": [
        {
          "output_type": "stream",
          "name": "stdout",
          "text": [
            "0 h\n",
            "1 e\n",
            "2 l\n",
            "3 l\n",
            "4 o\n",
            "5 o\n",
            "6 o\n"
          ]
        }
      ]
    },
    {
      "cell_type": "code",
      "source": [
        "thislist = ['apple','banana','cherry','oranges','kiwi','melon','mango']\n",
        "\n",
        "for i,v in enumerate(thislist):\n",
        "  if v == 'cherry':\n",
        "    print(i,'hey cherry is here in the index :')\n",
        "  else:\n",
        "    print(i,'cherry isn\\'t here in this index ')"
      ],
      "metadata": {
        "colab": {
          "base_uri": "https://localhost:8080/"
        },
        "id": "4NaZKABNy6gY",
        "outputId": "d6a9b864-f79d-4824-f265-1096e012d260"
      },
      "execution_count": null,
      "outputs": [
        {
          "output_type": "stream",
          "name": "stdout",
          "text": [
            "0 cherry isn't here in this index \n",
            "1 cherry isn't here in this index \n",
            "2 hey cherry is here in the index :\n",
            "3 cherry isn't here in this index \n",
            "4 cherry isn't here in this index \n",
            "5 cherry isn't here in this index \n",
            "6 cherry isn't here in this index \n"
          ]
        }
      ]
    },
    {
      "cell_type": "code",
      "source": [
        "for v , i in enumerate(list(range(100,201))):\n",
        "  if i == 150:\n",
        "   print(f'the index of {i} is {v}')"
      ],
      "metadata": {
        "colab": {
          "base_uri": "https://localhost:8080/"
        },
        "id": "u7shP7SU_P3S",
        "outputId": "7232021a-50d3-48bb-eac7-78938b585492"
      },
      "execution_count": null,
      "outputs": [
        {
          "output_type": "stream",
          "name": "stdout",
          "text": [
            "the index of 150 is 50\n"
          ]
        }
      ]
    },
    {
      "cell_type": "markdown",
      "source": [
        "While Loop"
      ],
      "metadata": {
        "id": "7ChGsxkN_iPv"
      }
    },
    {
      "cell_type": "code",
      "source": [
        "'''\n",
        "in the while loop while the condition is given\n",
        "while a condition is happening do something\n",
        "while condition:\n",
        "this is called infinte loop\n",
        "inorder to solve this we need to break the loop\n",
        "to jump out of the while loop we can either make the condition false\n",
        "or use the break\n",
        "'''\n",
        "i = 0\n",
        "while i < 10:\n",
        "  print(i)\n",
        "  i += 1\n",
        "\n",
        "else:\n",
        "  print('done with all the work')\n",
        "\n",
        "\n"
      ],
      "metadata": {
        "colab": {
          "base_uri": "https://localhost:8080/"
        },
        "id": "2sI-ewsD_0mE",
        "outputId": "1c33d3d5-804b-4645-ceb3-434c9454a305"
      },
      "execution_count": null,
      "outputs": [
        {
          "output_type": "stream",
          "name": "stdout",
          "text": [
            "0\n",
            "1\n",
            "2\n",
            "3\n",
            "4\n",
            "5\n",
            "6\n",
            "7\n",
            "8\n",
            "9\n",
            "done with all the work\n"
          ]
        }
      ]
    },
    {
      "cell_type": "markdown",
      "source": [
        "when to use while and when to use for"
      ],
      "metadata": {
        "id": "p9HiawpTFFsi"
      }
    },
    {
      "cell_type": "code",
      "source": [
        "mylist = [3,2,6]\n",
        "\n",
        "for i in mylist:\n",
        "  print(i)\n",
        "\n",
        "i=0\n",
        "while range(i < len(mylist)):\n",
        "  print(mylist [i])\n",
        "  i += 1"
      ],
      "metadata": {
        "colab": {
          "base_uri": "https://localhost:8080/"
        },
        "id": "9m9ECMMZFO5r",
        "outputId": "f22ba26d-317b-4a6d-888c-e064005f9c82"
      },
      "execution_count": null,
      "outputs": [
        {
          "output_type": "stream",
          "name": "stdout",
          "text": [
            "3\n",
            "2\n",
            "6\n",
            "3\n",
            "2\n",
            "6\n"
          ]
        }
      ]
    },
    {
      "cell_type": "code",
      "source": [
        "# if we didn't use the break then it will be looping over again and again\n",
        "while True:\n",
        "  input('say something:')\n",
        "  break"
      ],
      "metadata": {
        "colab": {
          "base_uri": "https://localhost:8080/"
        },
        "id": "ebyG_8vxRzOL",
        "outputId": "6cf38462-2732-45f8-bd85-325ee57efb10"
      },
      "execution_count": null,
      "outputs": [
        {
          "name": "stdout",
          "output_type": "stream",
          "text": [
            "say something:hello\n"
          ]
        }
      ]
    },
    {
      "cell_type": "code",
      "source": [
        "while True:\n",
        "  response = input('say something:')\n",
        "  if response == 'bye':\n",
        "   break\n"
      ],
      "metadata": {
        "colab": {
          "base_uri": "https://localhost:8080/"
        },
        "id": "z_SApvRwUB4l",
        "outputId": "0a42604b-54d2-4a0d-cba7-d365b9200b19"
      },
      "execution_count": null,
      "outputs": [
        {
          "name": "stdout",
          "output_type": "stream",
          "text": [
            "say something:hi\n",
            "say something:hello\n",
            "say something:don't repeate\n",
            "say something:bye\n"
          ]
        }
      ]
    },
    {
      "cell_type": "markdown",
      "source": [
        "Break, continue,  pass"
      ],
      "metadata": {
        "id": "rC6Os_goUebl"
      }
    },
    {
      "cell_type": "code",
      "source": [
        "mylist = [3,2,6]\n",
        "\n",
        "for i in mylist:\n",
        "  continue\n",
        "  print(i)\n",
        "\n",
        "i=0\n",
        "while range(i < len(mylist)):\n",
        "  print(mylist [i])\n",
        "  i += 1\n",
        "  continue\n",
        "\n",
        "# it does nothing but simply passes to the next\n",
        "for i in mylist:\n",
        "  # thinkinng about it\n",
        "  pass\n",
        "\n",
        "i=0\n",
        "while range(i < len(mylist)):\n",
        "  print(mylist [i])\n",
        "  pass\n",
        "  i += 1\n"
      ],
      "metadata": {
        "id": "L_h1RsKIVxSo",
        "colab": {
          "base_uri": "https://localhost:8080/"
        },
        "outputId": "c4f2f83b-f3a7-4ed1-accc-1971ec5256ae"
      },
      "execution_count": null,
      "outputs": [
        {
          "output_type": "stream",
          "name": "stdout",
          "text": [
            "3\n",
            "2\n",
            "6\n",
            "3\n",
            "2\n",
            "6\n"
          ]
        }
      ]
    },
    {
      "cell_type": "markdown",
      "source": [
        "Our first GUI"
      ],
      "metadata": {
        "id": "IQpPJh0v2qfG"
      }
    },
    {
      "cell_type": "code",
      "source": [
        "# Graphical User Interface\n",
        "# exercise!\n",
        "'''\n",
        "clean\n",
        "readability\n",
        "predictability\n",
        "don't repeate yourself\n",
        "\n",
        "'''\n",
        "picture = [\n",
        "    [0,0,0,1,0,0,0],\n",
        "    [0,0,1,1,1,0,0],\n",
        "    [0,1,1,1,1,1,0],\n",
        "    [1,1,1,1,1,1,1],\n",
        "    [0,0,0,1,0,0,0],\n",
        "    [0,0,0,1,0,0,0]\n",
        "]\n",
        "\n",
        "# 1. iterate over picture\n",
        "   #  if 0 -> print ' '\n",
        "   #  if 1 -> print *\n",
        "for i in picture:\n",
        "  for j in i:\n",
        "   if j :\n",
        "    print('$', end='')\n",
        "   else:\n",
        "    print(' ', end='')\n",
        "  print('') # need a new row after every line"
      ],
      "metadata": {
        "id": "FjnsXtEi4QNZ",
        "colab": {
          "base_uri": "https://localhost:8080/"
        },
        "outputId": "d9624bb2-c6d1-4e0f-ad14-a5d4858c2ea5"
      },
      "execution_count": null,
      "outputs": [
        {
          "output_type": "stream",
          "name": "stdout",
          "text": [
            "   $   \n",
            "  $$$  \n",
            " $$$$$ \n",
            "$$$$$$$\n",
            "   $   \n",
            "   $   \n"
          ]
        }
      ]
    },
    {
      "cell_type": "markdown",
      "source": [
        "Find duplicates"
      ],
      "metadata": {
        "id": "_xBQQrLUdjpf"
      }
    },
    {
      "cell_type": "code",
      "source": [
        "some_list = ['a','b','c','b','d','m','n','n']\n",
        "\n",
        "duplicates = []\n",
        "for i in some_list:\n",
        "  if some_list.count(i) > 1:\n",
        "    if i not in duplicates:\n",
        "     duplicates.append(i)\n",
        "duplicates"
      ],
      "metadata": {
        "colab": {
          "base_uri": "https://localhost:8080/"
        },
        "id": "1DlY8CyLejRO",
        "outputId": "4592c560-8a4e-4ff3-981a-b8473c52c30e"
      },
      "execution_count": null,
      "outputs": [
        {
          "output_type": "execute_result",
          "data": {
            "text/plain": [
              "['b', 'n']"
            ]
          },
          "metadata": {},
          "execution_count": 7
        }
      ]
    }
  ]
}